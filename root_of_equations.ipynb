{
  "nbformat": 4,
  "nbformat_minor": 0,
  "metadata": {
    "colab": {
      "provenance": []
    },
    "kernelspec": {
      "name": "python3",
      "display_name": "Python 3"
    },
    "language_info": {
      "name": "python"
    }
  },
  "cells": [
    {
      "cell_type": "code",
      "execution_count": 5,
      "metadata": {
        "colab": {
          "base_uri": "https://localhost:8080/"
        },
        "id": "fhjrjHzvPd8Y",
        "outputId": "73177a60-bd6a-4dc3-fbec-06302cdf431a"
      },
      "outputs": [
        {
          "output_type": "stream",
          "name": "stdout",
          "text": [
            "Root of Equations\n",
            "Find Root of Equation using Newton Raphson Method & Find Root of Equation using Bisection Method\n",
            "\n",
            "iter-1: 3.330357142857143\n",
            "iter-2: 2.7705278067251076\n",
            "iter-3: 2.3014692834655897\n",
            "iter-4: 1.9076486911265778\n",
            "iter-5: 1.5780738506315775\n",
            "iter-6: 1.3101344278134677\n",
            "iter-7: 1.1168277838634215\n",
            "iter-8: 1.0204619280744585\n",
            "iter-9: 1.0006965918207418\n",
            "\n",
            "the root of equation: 1.0006965918207418\n",
            "\n"
          ]
        }
      ],
      "source": [
        "print(\"Root of Equations\")\n",
        "print(\"Find Root of Equation using Newton Raphson Method & Find Root of Equation using Bisection Method\")\n",
        "print(\"\")\n",
        "\n",
        "import numpy as np\n",
        "\n",
        "def f(x):\n",
        "  return x ** 6 + 2 * (x ** 2) - 3\n",
        "\n",
        "# First Derivative\n",
        "def df(x):\n",
        "  return 6 * ( x ** 5) + 4 * x\n",
        "\n",
        "def newton(guess, tolerate, iteration, max_iter):\n",
        "\n",
        "  # Set condition maximal iteration\n",
        "  if(iteration < max_iter + 1):\n",
        "    x = guess - (f(guess) / df(guess))\n",
        "    print(f\"iter-{iteration}: {x}\")\n",
        "    iteration += 1\n",
        "\n",
        "    if(abs(f(x)) < tolerate):\n",
        "      print(f\"\\nthe root of equation: {x}\")\n",
        "      return\n",
        "    newton(x, tolerate, iteration, max_iter)\n",
        "  else:\n",
        "    print(f\"You have reached the maximal iteration\")\n",
        "\n",
        "\n",
        "guess = 4\n",
        "tolerate = 0.01\n",
        "max_iter = 15\n",
        "\n",
        "\n",
        "newton(guess, tolerate, 1, max_iter)\n",
        "print(\"\")\n",
        "\n",
        "\n"
      ]
    },
    {
      "cell_type": "code",
      "source": [
        "import numpy as np\n",
        "\n",
        "print(\"Find Root of Equation using Bisection Method\\n\")\n",
        "\n",
        "def f2(x):\n",
        "  a = 10 * (x ** 3)\n",
        "  b = 8 * (x ** 2)\n",
        "  return a + b + 9\n",
        "\n",
        "def bisection2(a, b, tolerance, ori_a, ori_b):\n",
        "  # Rules for np.sign: If the value being passed is greater than 0,\n",
        "  # it will return 1, otherwise -1.\n",
        "  # Validate the sign must be different\n",
        "  if np.sign(f2(a)) == np.sign(f2(b)):\n",
        "    print(f\"a = {a} and b = {b} not bound a root\")\n",
        "    return\n",
        "\n",
        "  # Update value of c\n",
        "  c = (a + b) / 2\n",
        "\n",
        "  # It must be absolute because the value of 'c' might be negative.\n",
        "  # If it's negative, it will always fall below the tolerance\n",
        "  if(np.abs(f2(c)) < tolerance):\n",
        "    print(f\"root of the function = {c} with coordinates of x1 = {ori_a} and x2 = {ori_b}\")\n",
        "    return\n",
        "\n",
        "  if(np.sign(f2(c)) == np.sign(f2(a))):\n",
        "    bisection2(c, b, tolerance, ori_a, ori_b)\n",
        "  elif(np.sign(f2(c)) == np.sign(f2(b))):\n",
        "    bisection2(a, c, tolerance, ori_a, ori_b)\n",
        "\n",
        "coordinates = [\n",
        "  [3, 4],\n",
        "  [-10, 17],\n",
        "  [10, -15],\n",
        "  [-2, 4],\n",
        "  [12, -5],\n",
        "  [-8, -13],\n",
        "  [7, -21],\n",
        "]\n",
        "\n",
        "i = 0\n",
        "\n",
        "for i in range(7):\n",
        "\n",
        "  tolerance = 0.001\n",
        "  print(f\"{i + 1}. \", end=\"\")\n",
        "  bisection2(coordinates[i][0], coordinates[i][1], tolerance, coordinates[i][0], coordinates[i][1])\n",
        "\n"
      ],
      "metadata": {
        "colab": {
          "base_uri": "https://localhost:8080/"
        },
        "id": "nfNIU_xNjjJa",
        "outputId": "9f69cf3d-f26a-4bd5-b29e-018c1390469d"
      },
      "execution_count": 9,
      "outputs": [
        {
          "output_type": "stream",
          "name": "stdout",
          "text": [
            "Find Root of Equation using Bisection Method\n",
            "\n",
            "1. a = 3 and b = 4 not bound a root\n",
            "2. root of the function = -1.3180370330810547 with coordinates of x1 = -10 and x2 = 17\n",
            "3. root of the function = -1.318063735961914 with coordinates of x1 = 10 and x2 = -15\n",
            "4. root of the function = -1.318023681640625 with coordinates of x1 = -2 and x2 = 4\n",
            "5. root of the function = -1.318084716796875 with coordinates of x1 = 12 and x2 = -5\n",
            "6. a = -8 and b = -13 not bound a root\n",
            "7. root of the function = -1.31805419921875 with coordinates of x1 = 7 and x2 = -21\n"
          ]
        }
      ]
    }
  ]
}